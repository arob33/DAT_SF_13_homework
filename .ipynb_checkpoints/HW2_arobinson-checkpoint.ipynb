{
 "metadata": {
  "name": "",
  "signature": "sha256:af35d50f1bc11040f16fb56199e186c937c0a298f6d85a6ff5774ca8a2b80404"
 },
 "nbformat": 3,
 "nbformat_minor": 0,
 "worksheets": [
  {
   "cells": [
    {
     "cell_type": "code",
     "collapsed": false,
     "input": [
      "%matplotlib inline\n",
      "from __future__ import division\n",
      "import pandas as pd\n",
      "import numpy as np\n",
      "#from seaborn import plt\n",
      "import matplotlib.pyplot as plt\n",
      "from sklearn.datasets import load_iris\n",
      "\n",
      "from matplotlib.colors import ListedColormap\n",
      "from sklearn import neighbors, datasets, feature_selection\n",
      "from sklearn.cross_validation import train_test_split, cross_val_score"
     ],
     "language": "python",
     "metadata": {},
     "outputs": [],
     "prompt_number": 1
    },
    {
     "cell_type": "code",
     "collapsed": false,
     "input": [
      "iris = datasets.load_iris()\n",
      "iris_df = pd.DataFrame(iris.data, columns=iris.feature_names)\n",
      "iris_df['target'] = iris.target\n",
      "iris_df.head()"
     ],
     "language": "python",
     "metadata": {},
     "outputs": [
      {
       "html": [
        "<div style=\"max-height:1000px;max-width:1500px;overflow:auto;\">\n",
        "<table border=\"1\" class=\"dataframe\">\n",
        "  <thead>\n",
        "    <tr style=\"text-align: right;\">\n",
        "      <th></th>\n",
        "      <th>sepal length (cm)</th>\n",
        "      <th>sepal width (cm)</th>\n",
        "      <th>petal length (cm)</th>\n",
        "      <th>petal width (cm)</th>\n",
        "      <th>target</th>\n",
        "    </tr>\n",
        "  </thead>\n",
        "  <tbody>\n",
        "    <tr>\n",
        "      <th>0</th>\n",
        "      <td> 5.1</td>\n",
        "      <td> 3.5</td>\n",
        "      <td> 1.4</td>\n",
        "      <td> 0.2</td>\n",
        "      <td> 0</td>\n",
        "    </tr>\n",
        "    <tr>\n",
        "      <th>1</th>\n",
        "      <td> 4.9</td>\n",
        "      <td> 3.0</td>\n",
        "      <td> 1.4</td>\n",
        "      <td> 0.2</td>\n",
        "      <td> 0</td>\n",
        "    </tr>\n",
        "    <tr>\n",
        "      <th>2</th>\n",
        "      <td> 4.7</td>\n",
        "      <td> 3.2</td>\n",
        "      <td> 1.3</td>\n",
        "      <td> 0.2</td>\n",
        "      <td> 0</td>\n",
        "    </tr>\n",
        "    <tr>\n",
        "      <th>3</th>\n",
        "      <td> 4.6</td>\n",
        "      <td> 3.1</td>\n",
        "      <td> 1.5</td>\n",
        "      <td> 0.2</td>\n",
        "      <td> 0</td>\n",
        "    </tr>\n",
        "    <tr>\n",
        "      <th>4</th>\n",
        "      <td> 5.0</td>\n",
        "      <td> 3.6</td>\n",
        "      <td> 1.4</td>\n",
        "      <td> 0.2</td>\n",
        "      <td> 0</td>\n",
        "    </tr>\n",
        "  </tbody>\n",
        "</table>\n",
        "</div>"
       ],
       "metadata": {},
       "output_type": "pyout",
       "prompt_number": 31,
       "text": [
        "   sepal length (cm)  sepal width (cm)  petal length (cm)  petal width (cm)  \\\n",
        "0                5.1               3.5                1.4               0.2   \n",
        "1                4.9               3.0                1.4               0.2   \n",
        "2                4.7               3.2                1.3               0.2   \n",
        "3                4.6               3.1                1.5               0.2   \n",
        "4                5.0               3.6                1.4               0.2   \n",
        "\n",
        "   target  \n",
        "0       0  \n",
        "1       0  \n",
        "2       0  \n",
        "3       0  \n",
        "4       0  "
       ]
      }
     ],
     "prompt_number": 31
    },
    {
     "cell_type": "code",
     "collapsed": false,
     "input": [],
     "language": "python",
     "metadata": {},
     "outputs": [],
     "prompt_number": 43
    },
    {
     "cell_type": "code",
     "collapsed": false,
     "input": [
      "#1.\n",
      "\n",
      "n_neighbors = range(1, 51, 2)\n",
      "X_train, X_test, y_train, y_test = train_test_split(iris.data, iris.target, test_size=0.2, random_state=12)\n",
      "\n",
      "scores = []\n",
      "for n in n_neighbors:\n",
      "    clf = neighbors.KNeighborsClassifier(n)\n",
      "    clf.fit(X_train, y_train)\n",
      "    scores.append(clf.score(X_test, y_test))\n",
      "\n",
      "plt.plot(n_neighbors, scores)"
     ],
     "language": "python",
     "metadata": {},
     "outputs": [
      {
       "metadata": {},
       "output_type": "pyout",
       "prompt_number": 64,
       "text": [
        "[<matplotlib.lines.Line2D at 0x10aa1a950>]"
       ]
      },
      {
       "metadata": {},
       "output_type": "display_data",
       "png": "[encoded data removed]",
       "text": [
        "<matplotlib.figure.Figure at 0x10a948750>"
       ]
      }
     ],
     "prompt_number": 64
    },
    {
     "cell_type": "code",
     "collapsed": false,
     "input": [
      "#2. Use cross_val_score for n=11\n",
      "from sklearn.datasets import load_iris\n",
      "iris = datasets.load_iris()\n",
      "iris_df = pd.DataFrame(iris.data, columns=iris.feature_names)\n",
      "\n",
      "from sklearn.cross_validation import cross_val_score\n",
      "clf = neighbors.KNeighborsClassifier(11, weights='uniform')\n",
      "clf.fit(iris.data, iris.target)\n",
      "scores = cross_val_score(clf, iris_df.values, iris.target, cv=5)\n",
      "print scores\n",
      "print scores.mean()"
     ],
     "language": "python",
     "metadata": {},
     "outputs": [
      {
       "output_type": "stream",
       "stream": "stdout",
       "text": [
        "[ 0.93333333  1.          1.          0.96666667  1.        ]\n",
        "0.98\n"
       ]
      }
     ],
     "prompt_number": 149
    },
    {
     "cell_type": "code",
     "collapsed": false,
     "input": [
      "#3. Determine optimal K using cv_val_score; alternative to train_test_split\n",
      "\n",
      "scores = []\n",
      "n_neighbors = range(1, 75, 2)\n",
      "iris = datasets.load_iris()\n",
      "iris_df = pd.DataFrame(iris.data, columns=iris.feature_names)\n",
      "\n",
      "for n in n_neighbors:\n",
      "    clf = neighbors.KNeighborsClassifier(n, weights='uniform')\n",
      "    scores.append(\n",
      "        cross_val_score(clf, iris_df.values, iris.target, cv=5).mean())\n",
      "    \n",
      "print 'Optimal k = ' + str(n_neighbors[np.argmax(scores)])\n",
      "# optimal k: this gives a value of 7. inspecting the scores below,\n",
      "# 7 and 11 return the same cross validation score for my runs\n",
      "\n",
      "scores[0:10]"
     ],
     "language": "python",
     "metadata": {},
     "outputs": [
      {
       "output_type": "stream",
       "stream": "stdout",
       "text": [
        "Optimal k = 7\n"
       ]
      },
      {
       "metadata": {},
       "output_type": "pyout",
       "prompt_number": 196,
       "text": [
        "[0.95999999999999996,\n",
        " 0.96666666666666679,\n",
        " 0.97333333333333338,\n",
        " 0.98000000000000009,\n",
        " 0.97333333333333338,\n",
        " 0.98000000000000009,\n",
        " 0.97333333333333338,\n",
        " 0.96666666666666679,\n",
        " 0.96666666666666679,\n",
        " 0.96666666666666679]"
       ]
      }
     ],
     "prompt_number": 196
    },
    {
     "cell_type": "code",
     "collapsed": false,
     "input": [
      "#4. \n",
      "plt.plot(n_neighbors, scores)\n"
     ],
     "language": "python",
     "metadata": {},
     "outputs": [
      {
       "metadata": {},
       "output_type": "pyout",
       "prompt_number": 197,
       "text": [
        "[<matplotlib.lines.Line2D at 0x10d4454d0>]"
       ]
      },
      {
       "metadata": {},
       "output_type": "display_data",
       "png": "[encoded data removed]",
       "text": [
        "<matplotlib.figure.Figure at 0x10d35e390>"
       ]
      }
     ],
     "prompt_number": 197
    },
    {
     "cell_type": "code",
     "collapsed": false,
     "input": [
      "#5. Own implementation of CV\n",
      "\n",
      "from __future__ import division\n",
      "\n",
      "def my_train_test_split(df, kfolds=5):\n",
      "    \"\"\" Randomly split df into a list of k dfs \"\"\"\n",
      "    np.random.seed(0)\n",
      "    kfolds = 5\n",
      "    N = df.shape[0]\n",
      "    fold_size = N/kfolds\n",
      "    index_shuffle = np.random.permutation(df.index)\n",
      "    data_folds = [df.ix[index_shuffle[(k*fold_size):(k+1)*fold_size]]\n",
      "                  for k in range(kfolds)]\n",
      "    return data_folds\n",
      "\n",
      "def my_cross_val_score(df, clf, kfolds=5):\n",
      "    \"\"\" Splits df into k folds and applies clf to each fold, then returns\n",
      "    mean score \"\"\"\n",
      "    split_data = my_train_test_split(df, kfolds)\n",
      "    scores = list()\n",
      "    for k in range(kfolds):\n",
      "        train = pd.concat(split_data[:k] + split_data[(k+1):])\n",
      "        test = split_data[k].copy()\n",
      "        clf.fit(train.iloc[:,0:4].values,\n",
      "                train.iloc[:,4].values)\n",
      "        scores.append(clf.score(test.iloc[:,0:4].values,\n",
      "                                test.iloc[:,4].values).mean())\n",
      "    return np.mean(scores)\n",
      "    "
     ],
     "language": "python",
     "metadata": {},
     "outputs": [],
     "prompt_number": 189
    },
    {
     "cell_type": "code",
     "collapsed": false,
     "input": [
      "my_scores = []\n",
      "n_neighbors = range(1, 75, 2)\n",
      "kfolds = 5\n",
      "iris = datasets.load_iris()\n",
      "iris_df = pd.DataFrame(iris.data, columns=iris.feature_names)\n",
      "iris_df['target'] = iris.target\n",
      "\n",
      "\n",
      "for n in n_neighbors:\n",
      "    clf = neighbors.KNeighborsClassifier(n, weights='uniform')\n",
      "    my_scores.append(my_cross_val_score(iris_df, clf, kfolds))\n",
      "\n",
      "plt.plot(n_neighbors, my_scores)\n",
      "print 'Optimal k = ' + str(n_neighbors[np.argmax(my_scores)])\n",
      "# same results\n"
     ],
     "language": "python",
     "metadata": {},
     "outputs": [
      {
       "output_type": "stream",
       "stream": "stdout",
       "text": [
        "Optimal k = 11\n"
       ]
      },
      {
       "metadata": {},
       "output_type": "display_data",
       "png": "[encoded data removed]",
       "text": [
        "<matplotlib.figure.Figure at 0x10d12ae50>"
       ]
      }
     ],
     "prompt_number": 191
    },
    {
     "cell_type": "code",
     "collapsed": false,
     "input": [
      "#6. Vary number of folds over interesting range\n",
      "iris = datasets.load_iris()\n",
      "iris_df = pd.DataFrame(iris.data, columns=iris.feature_names)\n",
      "\n",
      "fold_range = [2, 3, 5, 6, 10, 15, 20, 30, 50]\n",
      "clf = neighbors.KNeighborsClassifier(11, weights='uniform')\n",
      "\n",
      "# How does classifier accuracy vary with number of folds?\n",
      "classifier_accuracy = [cross_val_score(clf, iris_df.values,\n",
      "                                       iris.target, cv=m).mean()\n",
      "                       for m in fold_range]\n"
     ],
     "language": "python",
     "metadata": {},
     "outputs": [],
     "prompt_number": 215
    },
    {
     "cell_type": "code",
     "collapsed": false,
     "input": [
      "plt.plot(fold_range, classifier_accuracy)\n",
      "# to me, it not unclear whether there is an optimal number of folds\n",
      "# to use for this particular problem. Classifier accuracy is not\n",
      "# a monotonic function of number of folds"
     ],
     "language": "python",
     "metadata": {},
     "outputs": [
      {
       "metadata": {},
       "output_type": "pyout",
       "prompt_number": 216,
       "text": [
        "[<matplotlib.lines.Line2D at 0x10d32c750>]"
       ]
      },
      {
       "metadata": {},
       "output_type": "display_data",
       "png": "[encoded data removed]",
       "text": [
        "<matplotlib.figure.Figure at 0x10d11f050>"
       ]
      }
     ],
     "prompt_number": 216
    },
    {
     "cell_type": "code",
     "collapsed": false,
     "input": [
      "#7. Own implementation of KNN classification"
     ],
     "language": "python",
     "metadata": {},
     "outputs": [],
     "prompt_number": 263
    },
    {
     "cell_type": "code",
     "collapsed": false,
     "input": [
      "# first step is to calculate euclidean distances between each pair\n",
      "\n",
      "def dist_rank_helper(df):\n",
      "    ''' Calculate distances between pairs, then rank over rows. Ranks will be used for nearest neighbors '''\n",
      "    dist = pd.DataFrame(index=df.index, columns=df.index)\n",
      "    for i in dist.index:\n",
      "        for j in dist.columns:\n",
      "            dist.iloc[i,j] = np.linalg.norm(iris_df.iloc[i,:].values - iris_df.iloc[j,:].values)\n",
      "            if i==j:\n",
      "                dist.iloc[i,j] = np.nan\n",
      "    dist_rank = dist.rank(axis=1)\n",
      "    return dist_rank\n",
      "\n",
      "def my_knn(df, target, k):\n",
      "    ''' Classify each obs as the mode of the target values of the k nearest neighbors '''\n",
      "    k_nearest_neighbors = dist_rank_helper(df)\n",
      "    k_nearest_neighbors[k_nearest_neighbors > k] = np.nan\n",
      "    k_nearest_neighbors[k_nearest_neighbors <= k] = 1\n",
      "    target_df = pd.DataFrame([target], index=df.index, columns=df.index)\n",
      "    return (k_nearest_neighbors * target_df).mode(axis=1).iloc[:,0]"
     ],
     "language": "python",
     "metadata": {},
     "outputs": [],
     "prompt_number": 299
    },
    {
     "cell_type": "code",
     "collapsed": false,
     "input": [
      "dist_rank_helper(iris_df).head()"
     ],
     "language": "python",
     "metadata": {},
     "outputs": [
      {
       "html": [
        "<div style=\"max-height:1000px;max-width:1500px;overflow:auto;\">\n",
        "<table border=\"1\" class=\"dataframe\">\n",
        "  <thead>\n",
        "    <tr style=\"text-align: right;\">\n",
        "      <th></th>\n",
        "      <th>0</th>\n",
        "      <th>1</th>\n",
        "      <th>2</th>\n",
        "      <th>3</th>\n",
        "      <th>4</th>\n",
        "      <th>5</th>\n",
        "      <th>6</th>\n",
        "      <th>7</th>\n",
        "      <th>8</th>\n",
        "      <th>9</th>\n",
        "      <th>...</th>\n",
        "      <th>140</th>\n",
        "      <th>141</th>\n",
        "      <th>142</th>\n",
        "      <th>143</th>\n",
        "      <th>144</th>\n",
        "      <th>145</th>\n",
        "      <th>146</th>\n",
        "      <th>147</th>\n",
        "      <th>148</th>\n",
        "      <th>149</th>\n",
        "    </tr>\n",
        "  </thead>\n",
        "  <tbody>\n",
        "    <tr>\n",
        "      <th>0</th>\n",
        "      <td>  NaN</td>\n",
        "      <td> 28.0</td>\n",
        "      <td> 25.0</td>\n",
        "      <td> 39.5</td>\n",
        "      <td>  3.5</td>\n",
        "      <td> 36.5</td>\n",
        "      <td> 26.0</td>\n",
        "      <td>  6.5</td>\n",
        "      <td> 46.0</td>\n",
        "      <td> 22.5</td>\n",
        "      <td>...</td>\n",
        "      <td> 131</td>\n",
        "      <td> 120.0</td>\n",
        "      <td> 109.5</td>\n",
        "      <td> 137</td>\n",
        "      <td> 136</td>\n",
        "      <td> 123</td>\n",
        "      <td> 112</td>\n",
        "      <td> 115</td>\n",
        "      <td> 122</td>\n",
        "      <td> 104</td>\n",
        "    </tr>\n",
        "    <tr>\n",
        "      <th>1</th>\n",
        "      <td> 23.0</td>\n",
        "      <td>  NaN</td>\n",
        "      <td>  8.5</td>\n",
        "      <td> 11.0</td>\n",
        "      <td> 28.0</td>\n",
        "      <td> 44.0</td>\n",
        "      <td> 20.0</td>\n",
        "      <td> 14.0</td>\n",
        "      <td> 20.0</td>\n",
        "      <td>  4.0</td>\n",
        "      <td>...</td>\n",
        "      <td> 132</td>\n",
        "      <td> 122.0</td>\n",
        "      <td> 108.5</td>\n",
        "      <td> 137</td>\n",
        "      <td> 136</td>\n",
        "      <td> 121</td>\n",
        "      <td> 111</td>\n",
        "      <td> 115</td>\n",
        "      <td> 124</td>\n",
        "      <td> 106</td>\n",
        "    </tr>\n",
        "    <tr>\n",
        "      <th>2</th>\n",
        "      <td> 24.5</td>\n",
        "      <td>  7.0</td>\n",
        "      <td>  NaN</td>\n",
        "      <td>  2.0</td>\n",
        "      <td> 24.5</td>\n",
        "      <td> 45.0</td>\n",
        "      <td>  4.0</td>\n",
        "      <td> 17.0</td>\n",
        "      <td> 18.5</td>\n",
        "      <td> 10.5</td>\n",
        "      <td>...</td>\n",
        "      <td> 132</td>\n",
        "      <td> 123.5</td>\n",
        "      <td> 107.5</td>\n",
        "      <td> 138</td>\n",
        "      <td> 136</td>\n",
        "      <td> 122</td>\n",
        "      <td> 111</td>\n",
        "      <td> 115</td>\n",
        "      <td> 121</td>\n",
        "      <td> 106</td>\n",
        "    </tr>\n",
        "    <tr>\n",
        "      <th>3</th>\n",
        "      <td> 26.0</td>\n",
        "      <td> 13.5</td>\n",
        "      <td>  4.0</td>\n",
        "      <td>  NaN</td>\n",
        "      <td> 26.0</td>\n",
        "      <td> 43.5</td>\n",
        "      <td> 13.5</td>\n",
        "      <td> 18.0</td>\n",
        "      <td>  8.0</td>\n",
        "      <td> 11.0</td>\n",
        "      <td>...</td>\n",
        "      <td> 132</td>\n",
        "      <td> 124.0</td>\n",
        "      <td> 107.0</td>\n",
        "      <td> 138</td>\n",
        "      <td> 136</td>\n",
        "      <td> 123</td>\n",
        "      <td> 110</td>\n",
        "      <td> 115</td>\n",
        "      <td> 121</td>\n",
        "      <td> 104</td>\n",
        "    </tr>\n",
        "    <tr>\n",
        "      <th>4</th>\n",
        "      <td>  1.0</td>\n",
        "      <td> 35.0</td>\n",
        "      <td> 20.0</td>\n",
        "      <td> 40.0</td>\n",
        "      <td>  NaN</td>\n",
        "      <td> 36.0</td>\n",
        "      <td> 17.5</td>\n",
        "      <td>  4.0</td>\n",
        "      <td> 46.0</td>\n",
        "      <td> 23.5</td>\n",
        "      <td>...</td>\n",
        "      <td> 131</td>\n",
        "      <td> 121.0</td>\n",
        "      <td> 109.5</td>\n",
        "      <td> 137</td>\n",
        "      <td> 136</td>\n",
        "      <td> 123</td>\n",
        "      <td> 112</td>\n",
        "      <td> 115</td>\n",
        "      <td> 120</td>\n",
        "      <td> 103</td>\n",
        "    </tr>\n",
        "  </tbody>\n",
        "</table>\n",
        "<p>5 rows \u00d7 150 columns</p>\n",
        "</div>"
       ],
       "metadata": {},
       "output_type": "pyout",
       "prompt_number": 302,
       "text": [
        "    0     1     2     3     4     5     6     7     8     9    ...   140  \\\n",
        "0   NaN  28.0  25.0  39.5   3.5  36.5  26.0   6.5  46.0  22.5  ...   131   \n",
        "1  23.0   NaN   8.5  11.0  28.0  44.0  20.0  14.0  20.0   4.0  ...   132   \n",
        "2  24.5   7.0   NaN   2.0  24.5  45.0   4.0  17.0  18.5  10.5  ...   132   \n",
        "3  26.0  13.5   4.0   NaN  26.0  43.5  13.5  18.0   8.0  11.0  ...   132   \n",
        "4   1.0  35.0  20.0  40.0   NaN  36.0  17.5   4.0  46.0  23.5  ...   131   \n",
        "\n",
        "     141    142  143  144  145  146  147  148  149  \n",
        "0  120.0  109.5  137  136  123  112  115  122  104  \n",
        "1  122.0  108.5  137  136  121  111  115  124  106  \n",
        "2  123.5  107.5  138  136  122  111  115  121  106  \n",
        "3  124.0  107.0  138  136  123  110  115  121  104  \n",
        "4  121.0  109.5  137  136  123  112  115  120  103  \n",
        "\n",
        "[5 rows x 150 columns]"
       ]
      }
     ],
     "prompt_number": 302
    },
    {
     "cell_type": "code",
     "collapsed": false,
     "input": [
      "predictions = my_knn(iris_df, iris.target, 11)\n",
      "predictions.head()"
     ],
     "language": "python",
     "metadata": {},
     "outputs": [
      {
       "metadata": {},
       "output_type": "pyout",
       "prompt_number": 306,
       "text": [
        "0    0\n",
        "1    0\n",
        "2    0\n",
        "3    0\n",
        "4    0\n",
        "Name: 0, dtype: float64"
       ]
      }
     ],
     "prompt_number": 306
    },
    {
     "cell_type": "code",
     "collapsed": false,
     "input": [
      "# prediction accuracy?\n",
      "(predictions == iris.target).sum()/len(predictions)"
     ],
     "language": "python",
     "metadata": {},
     "outputs": [
      {
       "metadata": {},
       "output_type": "pyout",
       "prompt_number": 310,
       "text": [
        "0.96666666666666667"
       ]
      }
     ],
     "prompt_number": 310
    },
    {
     "cell_type": "code",
     "collapsed": false,
     "input": [],
     "language": "python",
     "metadata": {},
     "outputs": [],
     "prompt_number": 267
    },
    {
     "cell_type": "code",
     "collapsed": false,
     "input": [],
     "language": "python",
     "metadata": {},
     "outputs": []
    }
   ],
   "metadata": {}
  }
 ]
}